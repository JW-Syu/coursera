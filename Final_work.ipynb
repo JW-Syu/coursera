{
  "metadata": {
    "language_info": {
      "codemirror_mode": {
        "name": "python",
        "version": 3
      },
      "file_extension": ".py",
      "mimetype": "text/x-python",
      "name": "python",
      "nbconvert_exporter": "python",
      "pygments_lexer": "ipython3",
      "version": "3.8"
    },
    "kernelspec": {
      "name": "python",
      "display_name": "Pyolite",
      "language": "python"
    }
  },
  "nbformat_minor": 4,
  "nbformat": 4,
  "cells": [
    {
      "cell_type": "markdown",
      "source": "<h1>My Jupyter Notebook on IBM Watson Studio</h1>",
      "metadata": {}
    },
    {
      "cell_type": "markdown",
      "source": "<p><b>Jhe-Wei Syu</b></p>\n<p>Data scientist<p>",
      "metadata": {}
    },
    {
      "cell_type": "markdown",
      "source": "<p><i>I am interested in data science because I think that data is everything and it's a big challenge to handle the data.</i></p>",
      "metadata": {}
    },
    {
      "cell_type": "markdown",
      "source": "<h3>Say hello to the world.</h3>",
      "metadata": {}
    },
    {
      "cell_type": "code",
      "source": "print(\"Hello, world\")",
      "metadata": {
        "trusted": true
      },
      "execution_count": 3,
      "outputs": [
        {
          "name": "stdout",
          "text": "Hello, world\n",
          "output_type": "stream"
        }
      ]
    },
    {
      "cell_type": "markdown",
      "source": "<a href=https://www.ibm.com/tw-zh>IBM</a>\n<hr/>\n<p style=\"color:red;\">Hello</p>\n<table>\n    <tr>\n        <td>日期</td>\n        <td>數學</td>\n        <td>英文</td>\n    </tr>\n    <tr>\n        <td>2/8</td>\n        <td>80</td>\n        <td>60</td>\n    </tr>\n    <tr>\n        <td>2/9</td>\n        <td>90</td>\n        <td>80</td>\n    </tr>\n</table>\n<ol>\n  <li>Coffee</li>\n  <li>Tea</li>\n  <li>Milk</li>\n</ol>",
      "metadata": {}
    }
  ]
}